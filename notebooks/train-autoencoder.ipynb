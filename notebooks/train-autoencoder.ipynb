{
 "cells": [
  {
   "cell_type": "code",
   "execution_count": null,
   "metadata": {},
   "outputs": [],
   "source": [
    "import os\n",
    "# import tqdm\n",
    "import torch\n",
    "import datetime\n",
    "import numpy as np\n",
    "import matplotlib.pyplot as plt\n",
    "from pyntcloud import PyntCloud\n",
    "from tensorboardX import SummaryWriter\n",
    "from torch.utils.data import DataLoader\n",
    "from sklearn.model_selection import train_test_split\n",
    "##\n",
    "from src.autoencoder import AutoEncoder, PointcloudDatasetAE\n",
    "from src.chamferloss import ChamferLoss_distance"
   ]
  },
  {
   "cell_type": "code",
   "execution_count": null,
   "metadata": {},
   "outputs": [],
   "source": [
    "device = torch.device('cuda' if torch.cuda.is_available() else 'cpu')"
   ]
  },
  {
   "cell_type": "code",
   "execution_count": null,
   "metadata": {},
   "outputs": [],
   "source": [
    "DATA_DIR = \"./data/shape_net_core_uniform_samples_2048/\"\n",
    "list_point_clouds = np.load('./data/filter/list_point_cloud_filepath.npy')\n",
    "X_train, X_test, _, _ = train_test_split(list_point_clouds, list_point_clouds, test_size=0.1, random_state=42)\n",
    "print(len(X_train))"
   ]
  },
  {
   "cell_type": "code",
   "execution_count": null,
   "metadata": {},
   "outputs": [],
   "source": [
    "train_dataset = PointcloudDatasetAE(DATA_DIR, X_train)\n",
    "train_dataloader = DataLoader(train_dataset, num_workers=2, shuffle=False, batch_size=48)\n",
    "\n",
    "test_dataset = PointcloudDatasetAE(DATA_DIR, X_test)\n",
    "test_dataloader = DataLoader(test_dataset, num_workers=2, shuffle=False, batch_size=1)\n",
    "\n",
    "for i, data in enumerate(train_dataloader):\n",
    "    data = data.permute([0,2,1])\n",
    "    print(data.shape)\n",
    "    break"
   ]
  },
  {
   "cell_type": "code",
   "execution_count": null,
   "metadata": {},
   "outputs": [],
   "source": [
    "autoencoder = AutoEncoder(2048).to(device)\n",
    "chamfer_loss = ChamferLoss_distance(2048).to(device)"
   ]
  },
  {
   "cell_type": "code",
   "execution_count": null,
   "metadata": {},
   "outputs": [],
   "source": [
    "lr = 1.0e-4\n",
    "momentum = 0.95\n",
    "optimizer_AE = torch.optim.Adam(autoencoder.parameters(), lr=lr, betas=(momentum, 0.999))"
   ]
  },
  {
   "cell_type": "code",
   "execution_count": null,
   "metadata": {},
   "outputs": [],
   "source": [
    "ROOT_DIR = './models/autoencoder/'\n",
    "now =   str(datetime.datetime.now())\n",
    "\n",
    "if not os.path.exists(ROOT_DIR):\n",
    "    os.makedirs(ROOT_DIR)\n",
    "\n",
    "if not os.path.exists(ROOT_DIR + now):\n",
    "    os.makedirs(ROOT_DIR + now)\n",
    "\n",
    "LOG_DIR = ROOT_DIR + now + '/logs/'\n",
    "if not os.path.exists(LOG_DIR):\n",
    "    os.makedirs(LOG_DIR)\n",
    "\n",
    "OUTPUTS_DIR = ROOT_DIR  + now + '/outputs/'\n",
    "if not os.path.exists(OUTPUTS_DIR):\n",
    "    os.makedirs(OUTPUTS_DIR)\n",
    "\n",
    "MODEL_DIR = ROOT_DIR + now + '/models/'\n",
    "if not os.path.exists(MODEL_DIR):\n",
    "    os.makedirs(MODEL_DIR)\n",
    "\n",
    "summary_writer = SummaryWriter(LOG_DIR)"
   ]
  },
  {
   "cell_type": "code",
   "execution_count": null,
   "metadata": {},
   "outputs": [],
   "source": [
    "# print('Training')\n",
    "for epoch in range(1000):\n",
    "    autoencoder.train()\n",
    "    for i, data in enumerate(train_dataloader):\n",
    "        data = data.permute([0,2,1]).float().to(device)\n",
    "        optimizer_AE.zero_grad()\n",
    "        out_data, gfv = autoencoder(data)\n",
    "        loss = chamfer_loss(out_data, data)\n",
    "        loss.backward()\n",
    "        optimizer_AE.step()        \n",
    "        print('Epoch: {}, Iteration: {}, Content Loss: {}'.format(epoch, i, loss.item()))\n",
    "        summary_writer.add_scalar('Content Loss', loss.item())\n",
    "        # if i > 2:\n",
    "        #     break\n",
    "    torch.save(autoencoder.state_dict(), MODEL_DIR+'{}_ae_.pt'.format(epoch))"
   ]
  },
  {
   "cell_type": "code",
   "execution_count": null,
   "metadata": {},
   "outputs": [],
   "source": [
    "autoencoder.load_state_dict(torch.load('./models/autoencoder/2022-08-06 15:19:12.904709/models/14_ae_.pt'))"
   ]
  },
  {
   "cell_type": "code",
   "execution_count": null,
   "metadata": {},
   "outputs": [],
   "source": [
    "eval_output = os.path.join(ROOT_DIR, 'outputs', 'eval_output')"
   ]
  },
  {
   "cell_type": "code",
   "execution_count": null,
   "metadata": {},
   "outputs": [],
   "source": [
    "for i in range(X_test.shape[0]):\n",
    "        points = PyntCloud.from_file(X_test[i])\n",
    "        points = np.array(points.points)\n",
    "        points_normalized = (points - (-0.5)) / (0.5 - (-0.5))\n",
    "        points = points_normalized.astype(np.float)\n",
    "        points = torch.from_numpy(points).unsqueeze(0)\n",
    "        points = points.permute([0,2,1]).float().to(device)\n",
    "        print(points.shape)\n",
    "        autoencoder.eval()\n",
    "        with torch.no_grad():\n",
    "                out_data, gfv = autoencoder(points)\n",
    "                loss = chamfer_loss(out_data, points)\n",
    "        print(loss.item())   \n",
    "        output = out_data[0,:,:]\n",
    "        output = output.permute([1,0]).detach().cpu().numpy()\n",
    "        inputt = points[0,:,:]\n",
    "        inputt = inputt.permute([1,0]).detach().cpu().numpy()\n",
    "        fig = plt.figure()\n",
    "        ax_x = fig.add_subplot(111, projection='3d')\n",
    "        x_ = output\n",
    "        ax_x.scatter(x_[:, 0], x_[:, 1], x_[:,2])\n",
    "        ax_x.set_xlim([0,1])\n",
    "        ax_x.set_ylim([0,1])\n",
    "        ax_x.set_zlim([0,1])\n",
    "        fig.savefig('{}/{}_{}.png'.format(eval_output, i, 'out'))\n",
    "        fig = plt.figure()\n",
    "        ax_x = fig.add_subplot(111, projection='3d')\n",
    "        x_ = inputt\n",
    "        ax_x.scatter(x_[:, 0], x_[:, 1], x_[:,2])\n",
    "        ax_x.set_xlim([0,1])\n",
    "        ax_x.set_ylim([0,1])\n",
    "        ax_x.set_zlim([0,1])\n",
    "        fig.savefig('{}/{}_{}.png'.format(eval_output, i, 'in'))\n",
    "        plt.close('all')"
   ]
  }
 ],
 "metadata": {
  "kernelspec": {
   "display_name": "Python 3.10.6 64-bit (windows store)",
   "language": "python",
   "name": "python3"
  },
  "language_info": {
   "name": "python",
   "version": "3.10.6"
  },
  "orig_nbformat": 4,
  "vscode": {
   "interpreter": {
    "hash": "9d3067bb23fa9af4b3061e062d92fd01011ec029f6d29054d635839b701de19f"
   }
  }
 },
 "nbformat": 4,
 "nbformat_minor": 2
}
